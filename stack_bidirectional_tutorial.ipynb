{
 "cells": [
  {
   "cell_type": "code",
   "execution_count": 844,
   "metadata": {},
   "outputs": [
    {
     "data": {
      "text/plain": [
       "'1.4.0'"
      ]
     },
     "execution_count": 844,
     "metadata": {},
     "output_type": "execute_result"
    }
   ],
   "source": [
    "from IPython import get_ipython\n",
    "get_ipython().magic('reset -sf') \n",
    "\n",
    "import tensorflow as tf\n",
    "import numpy as np\n",
    "\n",
    "tf.__version__\n",
    "\n"
   ]
  },
  {
   "cell_type": "code",
   "execution_count": 845,
   "metadata": {},
   "outputs": [],
   "source": [
    "# x->x를 예측\n",
    "\n",
    "PAD = 0\n",
    "START = 1\n",
    "EOS = 2\n",
    "\n",
    "num_class = 7\n",
    "hidden_unit = 7\n",
    "num_layer = 3\n",
    "batch_size = 3\n",
    "\n",
    "encoder_input = [\n",
    "    [5,6,3,4],\n",
    "    [6,5,3,0],\n",
    "    [5,6,0,0]\n",
    "]\n",
    "\n",
    "decoder_input = [\n",
    "    [START,5,6,3,4],\n",
    "    [START,6,5,3,0],\n",
    "    [START,5,6,0,0]\n",
    "]\n",
    "\n",
    "target = [\n",
    "    [5,6,3,4,EOS],\n",
    "    [6,5,3,EOS,0],\n",
    "    [5,6,EOS,0,0]\n",
    "]\n",
    "\n",
    "cell_type = \"LSTM\""
   ]
  },
  {
   "cell_type": "code",
   "execution_count": 846,
   "metadata": {},
   "outputs": [
    {
     "data": {
      "text/plain": [
       "[[5, 6, 3, 4], [6, 5, 3, 0], [5, 6, 0, 0]]"
      ]
     },
     "execution_count": 846,
     "metadata": {},
     "output_type": "execute_result"
    }
   ],
   "source": [
    "encoder_input"
   ]
  },
  {
   "cell_type": "code",
   "execution_count": 847,
   "metadata": {},
   "outputs": [
    {
     "data": {
      "text/plain": [
       "[[1, 5, 6, 3, 4], [1, 6, 5, 3, 0], [1, 5, 6, 0, 0]]"
      ]
     },
     "execution_count": 847,
     "metadata": {},
     "output_type": "execute_result"
    }
   ],
   "source": [
    "decoder_input"
   ]
  },
  {
   "cell_type": "code",
   "execution_count": 848,
   "metadata": {},
   "outputs": [
    {
     "data": {
      "text/plain": [
       "[[5, 6, 3, 4, 2], [6, 5, 3, 2, 0], [5, 6, 2, 0, 0]]"
      ]
     },
     "execution_count": 848,
     "metadata": {},
     "output_type": "execute_result"
    }
   ],
   "source": [
    "target"
   ]
  },
  {
   "cell_type": "code",
   "execution_count": 834,
   "metadata": {},
   "outputs": [],
   "source": [
    "def model_fn(mode, features, labels,params):\n",
    "    \n",
    "    def get_single_cell(cell_type):\n",
    "        if cell_type == \"GRU\":\n",
    "            single_cell = tf.contrib.rnn.GRUCell(\n",
    "                hidden_unit)\n",
    "        elif cell_type == \"LSTM\":\n",
    "            single_cell = tf.contrib.rnn.BasicLSTMCell(\n",
    "                hidden_unit,\n",
    "                forget_bias=1.0)\n",
    "        return single_cell\n",
    "\n",
    "    if type(features) == dict:\n",
    "        print(features)\n",
    "        encoder_input = features[\"encoder_input\"]\n",
    "        decoder_input = features[\"decoder_input\"]\n",
    "\n",
    "    encoder_input_one_hot = tf.one_hot(encoder_input,depth=num_class,dtype=tf.float32)\n",
    "    decoder_input_one_hot = tf.one_hot(decoder_input,depth=num_class,dtype=tf.float32)\n",
    "    \n",
    "    with tf.variable_scope('encoder'):\n",
    "        \n",
    "        fw_cells = [] \n",
    "        bw_cells = []\n",
    "        \n",
    "        for i in range(0,num_layer):\n",
    "            fw_cells.append(get_single_cell(cell_type))\n",
    "            bw_cells.append(get_single_cell(cell_type))\n",
    "            \n",
    "        (outputs, output_state_fw, output_state_bw) = tf.contrib.rnn.stack_bidirectional_dynamic_rnn(\n",
    "                                                        cells_bw=bw_cells,\n",
    "                                                        cells_fw=fw_cells,\n",
    "                                                        inputs=encoder_input_one_hot,\n",
    "                                                        dtype=tf.float32,\n",
    "                                                        time_major=False)\n",
    "        \n",
    "        if cell_type == \"LSTM\":\n",
    "            #lstm과 나머지 cell의 state의 형태가 다르다. LSTM은 tuple형태\n",
    "            encoder_final_state_c = tf.concat((output_state_fw[-1].c,output_state_bw[-1].c),1)\n",
    "            encoder_final_state_h = tf.concat((output_state_fw[-1].h,output_state_bw[-1].h),1)\n",
    "            encoder_final_state = tf.contrib.rnn.LSTMStateTuple(c = encoder_final_state_c, h = encoder_final_state_h)\n",
    "        else:\n",
    "            encoder_final_state = tf.concat((output_state_fw[-1],output_state_bw[-1]),1)\n",
    "    \n",
    "    with tf.variable_scope('decoder'):\n",
    "        decoder_cell = tf.contrib.rnn.LSTMCell(num_units=hidden_unit*2,state_is_tuple=True)\n",
    "        decoder_outputs, decoder_final_state = tf.nn.dynamic_rnn(\n",
    "            decoder_cell, decoder_input_one_hot,\n",
    "            initial_state=encoder_final_state,\n",
    "            dtype=tf.float32)\n",
    "        \n",
    "    decoder_logits = tf.contrib.layers.fully_connected(decoder_outputs,num_class,activation_fn=None)\n",
    "    decoder_prediction = tf.argmax(decoder_logits, 2)\n",
    "\n",
    "    if mode == tf.estimator.ModeKeys.PREDICT:\n",
    "        return tf.estimator.EstimatorSpec(\n",
    "                mode=mode,\n",
    "                predictions=decoder_prediction)\n",
    "    \n",
    "    if mode == tf.estimator.ModeKeys.TRAIN:\n",
    "        stepwise_cross_entropy = tf.nn.softmax_cross_entropy_with_logits(\n",
    "            labels=tf.one_hot(labels,depth=num_class,dtype=tf.float32),\n",
    "            logits=decoder_logits,\n",
    "        )\n",
    "        \n",
    "        loss = tf.reduce_mean(stepwise_cross_entropy,name=\"loss\")\n",
    "            \n",
    "        train_op = tf.contrib.layers.optimize_loss(\n",
    "            loss, tf.train.get_global_step(),\n",
    "            optimizer='Adam',\n",
    "            summaries=['loss', 'learning_rate'],\n",
    "            learning_rate=0.001,\n",
    "            name=\"train_op\")\n",
    "        \n",
    "        predictions = decoder_prediction\n",
    "        return tf.estimator.EstimatorSpec(\n",
    "            mode=mode,\n",
    "            loss=loss,\n",
    "            predictions=predictions,\n",
    "            train_op=train_op)\n",
    "   "
   ]
  },
  {
   "cell_type": "code",
   "execution_count": 835,
   "metadata": {},
   "outputs": [],
   "source": [
    "run_config = tf.contrib.learn.RunConfig(model_dir=\"./model_dir\",save_summary_steps=500)"
   ]
  },
  {
   "cell_type": "code",
   "execution_count": 837,
   "metadata": {},
   "outputs": [
    {
     "name": "stdout",
     "output_type": "stream",
     "text": [
      "INFO:tensorflow:Using config: {'_task_type': None, '_task_id': 0, '_cluster_spec': <tensorflow.python.training.server_lib.ClusterSpec object at 0x1253c0630>, '_master': '', '_num_ps_replicas': 0, '_num_worker_replicas': 0, '_environment': 'local', '_is_chief': True, '_evaluation_master': '', '_tf_config': gpu_options {\n",
      "  per_process_gpu_memory_fraction: 1\n",
      "}\n",
      ", '_tf_random_seed': None, '_save_summary_steps': 500, '_save_checkpoints_secs': 600, '_log_step_count_steps': 100, '_session_config': None, '_save_checkpoints_steps': None, '_keep_checkpoint_max': 5, '_keep_checkpoint_every_n_hours': 10000, '_model_dir': './model_dir'}\n"
     ]
    },
    {
     "name": "stderr",
     "output_type": "stream",
     "text": [
      "INFO:tensorflow:Using config: {'_task_type': None, '_task_id': 0, '_cluster_spec': <tensorflow.python.training.server_lib.ClusterSpec object at 0x1253c0630>, '_master': '', '_num_ps_replicas': 0, '_num_worker_replicas': 0, '_environment': 'local', '_is_chief': True, '_evaluation_master': '', '_tf_config': gpu_options {\n",
      "  per_process_gpu_memory_fraction: 1\n",
      "}\n",
      ", '_tf_random_seed': None, '_save_summary_steps': 500, '_save_checkpoints_secs': 600, '_log_step_count_steps': 100, '_session_config': None, '_save_checkpoints_steps': None, '_keep_checkpoint_max': 5, '_keep_checkpoint_every_n_hours': 10000, '_model_dir': './model_dir'}\n"
     ]
    },
    {
     "name": "stdout",
     "output_type": "stream",
     "text": [
      "WARNING:tensorflow:Estimator's model_fn (<function model_fn at 0x124b3d950>) includes params argument, but params are not passed to Estimator.\n"
     ]
    },
    {
     "name": "stderr",
     "output_type": "stream",
     "text": [
      "WARNING:tensorflow:Estimator's model_fn (<function model_fn at 0x124b3d950>) includes params argument, but params are not passed to Estimator.\n"
     ]
    }
   ],
   "source": [
    "estimator = tf.estimator.Estimator(config=run_config,model_fn=model_fn,model_dir=\"./model_dir\",params=None,)"
   ]
  },
  {
   "cell_type": "code",
   "execution_count": 838,
   "metadata": {},
   "outputs": [],
   "source": [
    "my_input_fn = tf.estimator.inputs.numpy_input_fn(\n",
    "    x={\"encoder_input\":np.array(encoder_input,dtype=np.int32),\"decoder_input\":np.array(decoder_input,dtype=np.int32)},\n",
    "    y=np.array(target,dtype=np.int32),\n",
    "    batch_size=batch_size,\n",
    "    shuffle=False,\n",
    "    num_epochs=None)"
   ]
  },
  {
   "cell_type": "code",
   "execution_count": 840,
   "metadata": {},
   "outputs": [
    {
     "name": "stdout",
     "output_type": "stream",
     "text": [
      "{'decoder_input': <tf.Tensor 'fifo_queue_DequeueMany:1' shape=(3, 5) dtype=int32>, 'encoder_input': <tf.Tensor 'fifo_queue_DequeueMany:2' shape=(3, 4) dtype=int32>}\n",
      "INFO:tensorflow:Create CheckpointSaverHook.\n"
     ]
    },
    {
     "name": "stderr",
     "output_type": "stream",
     "text": [
      "INFO:tensorflow:Create CheckpointSaverHook.\n"
     ]
    },
    {
     "name": "stdout",
     "output_type": "stream",
     "text": [
      "INFO:tensorflow:Saving checkpoints for 1 into ./model_dir/model.ckpt.\n"
     ]
    },
    {
     "name": "stderr",
     "output_type": "stream",
     "text": [
      "INFO:tensorflow:Saving checkpoints for 1 into ./model_dir/model.ckpt.\n"
     ]
    },
    {
     "name": "stdout",
     "output_type": "stream",
     "text": [
      "INFO:tensorflow:loss = 1.97522, step = 1\n"
     ]
    },
    {
     "name": "stderr",
     "output_type": "stream",
     "text": [
      "INFO:tensorflow:loss = 1.97522, step = 1\n"
     ]
    },
    {
     "name": "stdout",
     "output_type": "stream",
     "text": [
      "INFO:tensorflow:global_step/sec: 53.8996\n"
     ]
    },
    {
     "name": "stderr",
     "output_type": "stream",
     "text": [
      "INFO:tensorflow:global_step/sec: 53.8996\n"
     ]
    },
    {
     "name": "stdout",
     "output_type": "stream",
     "text": [
      "INFO:tensorflow:loss = 1.23828, step = 101 (1.857 sec)\n"
     ]
    },
    {
     "name": "stderr",
     "output_type": "stream",
     "text": [
      "INFO:tensorflow:loss = 1.23828, step = 101 (1.857 sec)\n"
     ]
    },
    {
     "name": "stdout",
     "output_type": "stream",
     "text": [
      "INFO:tensorflow:global_step/sec: 124.863\n"
     ]
    },
    {
     "name": "stderr",
     "output_type": "stream",
     "text": [
      "INFO:tensorflow:global_step/sec: 124.863\n"
     ]
    },
    {
     "name": "stdout",
     "output_type": "stream",
     "text": [
      "INFO:tensorflow:loss = 0.839767, step = 201 (0.801 sec)\n"
     ]
    },
    {
     "name": "stderr",
     "output_type": "stream",
     "text": [
      "INFO:tensorflow:loss = 0.839767, step = 201 (0.801 sec)\n"
     ]
    },
    {
     "name": "stdout",
     "output_type": "stream",
     "text": [
      "INFO:tensorflow:global_step/sec: 121.309\n"
     ]
    },
    {
     "name": "stderr",
     "output_type": "stream",
     "text": [
      "INFO:tensorflow:global_step/sec: 121.309\n"
     ]
    },
    {
     "name": "stdout",
     "output_type": "stream",
     "text": [
      "INFO:tensorflow:loss = 0.620188, step = 301 (0.824 sec)\n"
     ]
    },
    {
     "name": "stderr",
     "output_type": "stream",
     "text": [
      "INFO:tensorflow:loss = 0.620188, step = 301 (0.824 sec)\n"
     ]
    },
    {
     "name": "stdout",
     "output_type": "stream",
     "text": [
      "INFO:tensorflow:global_step/sec: 126.466\n"
     ]
    },
    {
     "name": "stderr",
     "output_type": "stream",
     "text": [
      "INFO:tensorflow:global_step/sec: 126.466\n"
     ]
    },
    {
     "name": "stdout",
     "output_type": "stream",
     "text": [
      "INFO:tensorflow:loss = 0.391624, step = 401 (0.791 sec)\n"
     ]
    },
    {
     "name": "stderr",
     "output_type": "stream",
     "text": [
      "INFO:tensorflow:loss = 0.391624, step = 401 (0.791 sec)\n"
     ]
    },
    {
     "name": "stdout",
     "output_type": "stream",
     "text": [
      "INFO:tensorflow:global_step/sec: 123.142\n"
     ]
    },
    {
     "name": "stderr",
     "output_type": "stream",
     "text": [
      "INFO:tensorflow:global_step/sec: 123.142\n"
     ]
    },
    {
     "name": "stdout",
     "output_type": "stream",
     "text": [
      "INFO:tensorflow:loss = 0.260712, step = 501 (0.813 sec)\n"
     ]
    },
    {
     "name": "stderr",
     "output_type": "stream",
     "text": [
      "INFO:tensorflow:loss = 0.260712, step = 501 (0.813 sec)\n"
     ]
    },
    {
     "name": "stdout",
     "output_type": "stream",
     "text": [
      "INFO:tensorflow:global_step/sec: 125.284\n"
     ]
    },
    {
     "name": "stderr",
     "output_type": "stream",
     "text": [
      "INFO:tensorflow:global_step/sec: 125.284\n"
     ]
    },
    {
     "name": "stdout",
     "output_type": "stream",
     "text": [
      "INFO:tensorflow:loss = 0.190938, step = 601 (0.797 sec)\n"
     ]
    },
    {
     "name": "stderr",
     "output_type": "stream",
     "text": [
      "INFO:tensorflow:loss = 0.190938, step = 601 (0.797 sec)\n"
     ]
    },
    {
     "name": "stdout",
     "output_type": "stream",
     "text": [
      "INFO:tensorflow:global_step/sec: 125.02\n"
     ]
    },
    {
     "name": "stderr",
     "output_type": "stream",
     "text": [
      "INFO:tensorflow:global_step/sec: 125.02\n"
     ]
    },
    {
     "name": "stdout",
     "output_type": "stream",
     "text": [
      "INFO:tensorflow:loss = 0.155753, step = 701 (0.800 sec)\n"
     ]
    },
    {
     "name": "stderr",
     "output_type": "stream",
     "text": [
      "INFO:tensorflow:loss = 0.155753, step = 701 (0.800 sec)\n"
     ]
    },
    {
     "name": "stdout",
     "output_type": "stream",
     "text": [
      "INFO:tensorflow:global_step/sec: 123.396\n"
     ]
    },
    {
     "name": "stderr",
     "output_type": "stream",
     "text": [
      "INFO:tensorflow:global_step/sec: 123.396\n"
     ]
    },
    {
     "name": "stdout",
     "output_type": "stream",
     "text": [
      "INFO:tensorflow:loss = 0.136328, step = 801 (0.810 sec)\n"
     ]
    },
    {
     "name": "stderr",
     "output_type": "stream",
     "text": [
      "INFO:tensorflow:loss = 0.136328, step = 801 (0.810 sec)\n"
     ]
    },
    {
     "name": "stdout",
     "output_type": "stream",
     "text": [
      "INFO:tensorflow:global_step/sec: 125.907\n"
     ]
    },
    {
     "name": "stderr",
     "output_type": "stream",
     "text": [
      "INFO:tensorflow:global_step/sec: 125.907\n"
     ]
    },
    {
     "name": "stdout",
     "output_type": "stream",
     "text": [
      "INFO:tensorflow:loss = 0.124501, step = 901 (0.795 sec)\n"
     ]
    },
    {
     "name": "stderr",
     "output_type": "stream",
     "text": [
      "INFO:tensorflow:loss = 0.124501, step = 901 (0.795 sec)\n"
     ]
    },
    {
     "name": "stdout",
     "output_type": "stream",
     "text": [
      "INFO:tensorflow:Saving checkpoints for 1000 into ./model_dir/model.ckpt.\n"
     ]
    },
    {
     "name": "stderr",
     "output_type": "stream",
     "text": [
      "INFO:tensorflow:Saving checkpoints for 1000 into ./model_dir/model.ckpt.\n"
     ]
    },
    {
     "name": "stdout",
     "output_type": "stream",
     "text": [
      "INFO:tensorflow:Loss for final step: 0.117022.\n"
     ]
    },
    {
     "name": "stderr",
     "output_type": "stream",
     "text": [
      "INFO:tensorflow:Loss for final step: 0.117022.\n"
     ]
    },
    {
     "data": {
      "text/plain": [
       "<tensorflow.python.estimator.estimator.Estimator at 0x12487ef60>"
      ]
     },
     "execution_count": 840,
     "metadata": {},
     "output_type": "execute_result"
    }
   ],
   "source": [
    "\n",
    "estimator.train(input_fn = my_input_fn,hooks=None,steps=1000,max_steps=None,saving_listeners=None)"
   ]
  },
  {
   "cell_type": "code",
   "execution_count": 841,
   "metadata": {},
   "outputs": [],
   "source": [
    "my_predict_input_fn = tf.estimator.inputs.numpy_input_fn(\n",
    "    x={\"encoder_input\":np.array(encoder_input,dtype=np.int32),\"decoder_input\":np.array(decoder_input,dtype=np.int32)},\n",
    "    y=np.array(decoder_input,dtype=np.int32),\n",
    "    batch_size=batch_size,\n",
    "    shuffle=False,\n",
    "    num_epochs=1)"
   ]
  },
  {
   "cell_type": "code",
   "execution_count": 842,
   "metadata": {},
   "outputs": [],
   "source": [
    "result = estimator.predict(input_fn=my_predict_input_fn)"
   ]
  },
  {
   "cell_type": "code",
   "execution_count": 843,
   "metadata": {},
   "outputs": [
    {
     "name": "stdout",
     "output_type": "stream",
     "text": [
      "{'decoder_input': <tf.Tensor 'fifo_queue_DequeueUpTo:1' shape=(?, 5) dtype=int32>, 'encoder_input': <tf.Tensor 'fifo_queue_DequeueUpTo:2' shape=(?, 4) dtype=int32>}\n",
      "INFO:tensorflow:Restoring parameters from ./model_dir/model.ckpt-1000\n"
     ]
    },
    {
     "name": "stderr",
     "output_type": "stream",
     "text": [
      "INFO:tensorflow:Restoring parameters from ./model_dir/model.ckpt-1000\n"
     ]
    },
    {
     "name": "stdout",
     "output_type": "stream",
     "text": [
      "[5, 6, 3, 4, 2] [5 6 3 4 2]\n",
      "[6, 5, 3, 2, 0] [5 5 3 2 0]\n",
      "[5, 6, 2, 0, 0] [5 6 2 0 0]\n"
     ]
    }
   ],
   "source": [
    "for label,pred in zip(target,result):\n",
    "    print(label,pred)"
   ]
  }
 ],
 "metadata": {
  "kernelspec": {
   "display_name": "Python 3",
   "language": "python",
   "name": "python3"
  },
  "language_info": {
   "codemirror_mode": {
    "name": "ipython",
    "version": 3
   },
   "file_extension": ".py",
   "mimetype": "text/x-python",
   "name": "python",
   "nbconvert_exporter": "python",
   "pygments_lexer": "ipython3",
   "version": "3.6.3"
  }
 },
 "nbformat": 4,
 "nbformat_minor": 2
}
